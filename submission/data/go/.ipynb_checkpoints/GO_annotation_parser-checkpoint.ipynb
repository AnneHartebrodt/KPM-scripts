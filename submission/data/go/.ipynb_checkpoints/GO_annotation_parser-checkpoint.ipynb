{
 "cells": [
  {
   "cell_type": "code",
   "execution_count": 54,
   "metadata": {},
   "outputs": [],
   "source": [
    "with open(\"/home/anne/Masterarbeit/data/go/go.obo\", \"r\") as f:\n",
    "    gonames={}\n",
    "    lines = f.readlines()\n",
    "    for line in range(0,len(lines)):\n",
    "        if lines[line].startswith(\"id\"):\n",
    "            l=lines[line].strip()\n",
    "            l=l.replace(\"id: \",\"\")\n",
    "            if(l.startswith(\"GO\")):\n",
    "                name=lines[line+1].strip().replace(\"name: \", \"\")\n",
    "                if(not name.startswith(\"obsolete\")):\n",
    "                    gonames[l]=name\n",
    "                "
   ]
  },
  {
   "cell_type": "code",
   "execution_count": 64,
   "metadata": {},
   "outputs": [],
   "source": [
    "with open (\"/home/anne/Masterarbeit/data/go/go_terms.tsv\", \"w\") as go:\n",
    "    for ele in gonames:\n",
    "        go.write(str(ele)+\"\\t\"+str(gonames[ele]))\n",
    "        go.write(\"\\n\")"
   ]
  }
 ],
 "metadata": {
  "kernelspec": {
   "display_name": "Python 3",
   "language": "python",
   "name": "python3"
  },
  "language_info": {
   "codemirror_mode": {
    "name": "ipython",
    "version": 3
   },
   "file_extension": ".py",
   "mimetype": "text/x-python",
   "name": "python",
   "nbconvert_exporter": "python",
   "pygments_lexer": "ipython3",
   "version": "3.6.4"
  }
 },
 "nbformat": 4,
 "nbformat_minor": 2
}
